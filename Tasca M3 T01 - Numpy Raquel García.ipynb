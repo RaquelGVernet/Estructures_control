{
 "cells": [
  {
   "cell_type": "markdown",
   "id": "2109ae7e",
   "metadata": {},
   "source": [
    "# Tasca M3 T01\n",
    "\n",
    "## Ejercicios con Numpy\n"
   ]
  },
  {
   "cell_type": "markdown",
   "id": "45bbf402",
   "metadata": {},
   "source": [
    "## Ejercicio 1\n",
    "\n",
    "### Crea una funció que donat un Array d’una dimensió, et faci un resum estadístic bàsic de les dades. Si detecta que l’array té més d’una dimensió, ha de mostrar un missatge d’error.\n",
    "\n",
    "Para este primer ejercicio, he creado una función que imprime la media, la mediana, la desviación estándar, la varianza y los valores máximos y mínimos. "
   ]
  },
  {
   "cell_type": "code",
   "execution_count": 2,
   "id": "4f938c89",
   "metadata": {},
   "outputs": [
    {
     "name": "stdout",
     "output_type": "stream",
     "text": [
      "La media es 2.4\n",
      "La mediana es 3.0\n",
      "La desviación estándar es 1.2\n",
      "La varianza es 1.44\n",
      "El valor máximo es 4 y el mínimo es 1\n"
     ]
    }
   ],
   "source": [
    "import numpy as np\n",
    "\n",
    "arrr=np.array([1,3,1,4,3])\n",
    "\n",
    "def analisisarray(x):\n",
    "    if x.ndim>1:\n",
    "        return \"Error - Más de una dimensión\"\n",
    "    else:\n",
    "        media = x.mean()\n",
    "        mediana = np.median(x)\n",
    "        desviacion =  x.std()\n",
    "        varianza = np.var(x)\n",
    "        maxx = max(x)\n",
    "        minn = min(x)\n",
    "        print (\"La media es {}\".format(media))\n",
    "        print (\"La mediana es {}\".format(mediana))\n",
    "        print (\"La desviación estándar es {}\".format(desviacion))\n",
    "        print (\"La varianza es {}\".format(varianza))\n",
    "        print (\"El valor máximo es {} y el mínimo es {}\".format(maxx,minn))\n",
    "        \n",
    "    \n",
    "analisisarray(arrr)"
   ]
  },
  {
   "cell_type": "markdown",
   "id": "5a95c955",
   "metadata": {},
   "source": [
    "## Exercici 2\n",
    "\n",
    "### Crea una funció que et generi un quadrat NxN de nombres aleatoris entre el 0 i el 100.\n",
    "\n",
    "Para este ejercicio, he fijado una semilla para que los resultados sean replicables (aunque dependiendo del objetivo no sería necesario fijar nada)\n",
    "\n",
    "Así mismo, he indicado que los elementos contenidos en el array serán números enteros, aunque eso podría cambiarse en el caso de que se quisieran números decimales u otro tipo de elementos. "
   ]
  },
  {
   "cell_type": "code",
   "execution_count": 4,
   "id": "dee56e52",
   "metadata": {},
   "outputs": [
    {
     "data": {
      "text/plain": [
       "array([[66, 92, 98, 17],\n",
       "       [83, 57, 86, 97],\n",
       "       [96, 47, 73, 32],\n",
       "       [46, 96, 25, 83]])"
      ]
     },
     "execution_count": 4,
     "metadata": {},
     "output_type": "execute_result"
    }
   ],
   "source": [
    "from numpy import random\n",
    "import numpy as np\n",
    "\n",
    "np.random.seed(123) \n",
    "\n",
    "def cuadradogenerate(N):\n",
    "    arrayvacio = np.array([], dtype=\"i\") \n",
    "    for i in range(N**2):\n",
    "        x = random.randint(100)\n",
    "        arrayvacio = np.append(arrayvacio, x)\n",
    "    arrayvacio = arrayvacio.reshape(N, N)\n",
    "    return arrayvacio\n",
    "        \n",
    "cuadradogenerate(4)"
   ]
  },
  {
   "cell_type": "markdown",
   "id": "bafc5703",
   "metadata": {},
   "source": [
    "## Exercici 3\n",
    "\n",
    "### Crea una funció que donada una taula de dues dimensions (NxM), et calculi els totals per fila i els totals per columna.\n",
    "\n",
    "En este caso, he asumido que con \"totales\" se refieren a los resultados de las sumas de todos los valores de cada fila y cada columna. \n",
    "\n",
    "Para generar una tabla de dos dimensiones he utilizado una función similar a la del apartado anterior, pero con ligeras modificaciones. \n",
    "\n",
    "Por último, propongo dos opciones distintas: en una primera opción, la función \"printea\" los resultados de las sumas de las filas y las columnas. No obstante, también he pensado una segunda opción en la cual los resultados se guardan en arrays 2D, en los cuales la primera fila indica los números de fila o columna analizados (0,1,2...) y en la segunda fila se muestran los sumatorios. \n",
    "\n",
    "En ambas opciones, incluyo un \"return\" para devolver los arrays y dar la opción a que esos valores puedan ser utilizados posteriormente"
   ]
  },
  {
   "cell_type": "code",
   "execution_count": 33,
   "id": "1bff7db2",
   "metadata": {},
   "outputs": [
    {
     "name": "stdout",
     "output_type": "stream",
     "text": [
      "[[66 92]\n",
      " [98 17]\n",
      " [83 57]]\n",
      "Las sumas de las filas son [158 115 140]\n",
      "Las sumas de las columnas son [247 166]\n",
      "[158 115 140]\n",
      "[247 166]\n"
     ]
    }
   ],
   "source": [
    "import numpy as np\n",
    "\n",
    "np.random.seed(123)\n",
    "\n",
    "#En un primer lugar, genero un array MxN con números aleatorios: \n",
    "\n",
    "def arraygenerate(N,M):\n",
    "    arrayvacio = np.array([], dtype=\"i\") #\n",
    "    for i in range(N*M):\n",
    "        x = random.randint(100)\n",
    "        arrayvacio = np.append(arrayvacio, x)\n",
    "    arrayvacio = arrayvacio.reshape(N, M)\n",
    "    return arrayvacio\n",
    "\n",
    "aaa=arraygenerate(3,2)\n",
    "print(aaa) #Compruebo que la matriz se genera correctamente\n",
    "\n",
    "#Empezamos con la primera opción (la más sencilla):\n",
    "\n",
    "def calculototals(ar):\n",
    "    sumascolumnas = ar.sum(0)\n",
    "    sumasfilas = ar.sum(1)\n",
    "    print(\"Las sumas de las filas son {}\".format(sumasfilas))\n",
    "    print(\"Las sumas de las columnas son {}\".format(sumascolumnas))\n",
    "    return sumascolumnas, sumasfilas\n",
    "            \n",
    "columnas1, filas1 = calculototals(aaa)\n",
    "\n",
    "print(filas1) #array 1D con los sumatorios de cada fila\n",
    "print(columnas1) #array 2D con los sumatorios de cada columna"
   ]
  },
  {
   "cell_type": "code",
   "execution_count": 31,
   "id": "27682cc0",
   "metadata": {},
   "outputs": [
    {
     "name": "stdout",
     "output_type": "stream",
     "text": [
      "En esta primera tabla, podemos ver el número de filas (fila 1) y su respectiva suma (fila 2):\n",
      "[[  0   1   2]\n",
      " [158 115 140]]\n",
      "En esta segunda tabla, podemos ver el número de columnas (fila 1) y su respectiva suma (fila 2):\n",
      "[[  0   1]\n",
      " [247 166]]\n",
      "[[  0   1   2]\n",
      " [158 115 140]]\n",
      "[[  0   1]\n",
      " [247 166]]\n"
     ]
    }
   ],
   "source": [
    "def calculototalss(ar):\n",
    "    dim=np.shape(ar)\n",
    "    indexfilas = np.array(range(dim[0]))\n",
    "    indexcolumnas = np.array(range(dim[1]))\n",
    "    sumasfilas = ar.sum(1)\n",
    "    sumascolumnas = ar.sum(0)\n",
    "    resfil=np.stack((indexfilas,sumasfilas), axis=0)\n",
    "    rescol=np.stack((indexcolumnas,sumascolumnas), axis=0)\n",
    "    print(\"En esta primera tabla, podemos ver el número de filas (fila 1) y su respectiva suma (fila 2):\")\n",
    "    print(resfil)\n",
    "    print(\"En esta segunda tabla, podemos ver el número de columnas (fila 1) y su respectiva suma (fila 2):\")\n",
    "    print(rescol)\n",
    "    return resfil, rescol\n",
    "\n",
    "filas11, columnas11 = calculototalss(aaa)\n",
    "print (filas11) #Aquí tendré el array con los datos de las filas\n",
    "print (columnas11) #Aquí tendré el array con los datos de las columnas\n"
   ]
  },
  {
   "cell_type": "markdown",
   "id": "29ce4ea7",
   "metadata": {},
   "source": [
    "## Exercici 4\n",
    "\n",
    "### Implementa manualment una funció que calculi el coeficient de correlació. Informa-te'n sobre els seus usos i interpretació.\n",
    "\n",
    "Para este ejercicio, he definido una función que permite calcular el coeficiente de correlación de Pearson. Este coeficiente de correlación no depende de la escala de las medidas, y es ampliamente utilizado para realizar análisis estadísticos. El valor oscila entre -1 y +1: Si el valor es negativo, indica que cuando una variable incrementa la otra disminuye (correlación negativa). Por el contrario, si el valor obtenido es positivo, indica que ambas variables incrementan (correlación positiva). Un valor cercano al 0 indica que la correlación es débil o inexistente, siendo 1 o -1 indicativos de correlaciones perfectas.\n",
    "\n"
   ]
  },
  {
   "cell_type": "code",
   "execution_count": 34,
   "id": "7151c6f2",
   "metadata": {},
   "outputs": [
    {
     "data": {
      "text/plain": [
       "1.0"
      ]
     },
     "execution_count": 34,
     "metadata": {},
     "output_type": "execute_result"
    }
   ],
   "source": [
    "\n",
    "import numpy as np\n",
    "import math \n",
    "\n",
    "def calculocorrelacion(x,y):\n",
    "    if x.ndim>1 or y.ndim>1:\n",
    "        return \"Error - Solo se acepan arrays de 1 dimensión\" #Limitamos el uso de la función a arrays de 1D\n",
    "    if len(x) != len(y):\n",
    "        return \"Error - Ambos arrays deben tener la misma longitud\" #Se solicitan dos inputs de la misma longitud\n",
    "    else:\n",
    "        mediax=x.mean()\n",
    "        mediay=y.mean()\n",
    "        arriba=0\n",
    "        deno1=0\n",
    "        deno2=0\n",
    "        for i in range(len(x)): #Loop para cada uno de los puntos del array\n",
    "            arriba+=((x[i]-mediax)*(y[i]-mediay))\n",
    "            deno1+=(x[i]-mediax)**2\n",
    "            deno2+=(y[i]-mediay)**2\n",
    "        deno1raiz=math.sqrt(deno1)\n",
    "        deno2raiz=math.sqrt(deno2)\n",
    "        coefpearson=arriba/(deno1raiz*deno2raiz)\n",
    "        coefpearsonround=round(coefpearson,3) #Redondeamos el resultado\n",
    "        return coefpearsonround\n",
    "\n",
    "x=np.array([1,2,3])\n",
    "y=np.array([1,2,3])\n",
    "\n",
    "calculocorrelacion(x,y)"
   ]
  }
 ],
 "metadata": {
  "kernelspec": {
   "display_name": "Python 3 (ipykernel)",
   "language": "python",
   "name": "python3"
  },
  "language_info": {
   "codemirror_mode": {
    "name": "ipython",
    "version": 3
   },
   "file_extension": ".py",
   "mimetype": "text/x-python",
   "name": "python",
   "nbconvert_exporter": "python",
   "pygments_lexer": "ipython3",
   "version": "3.9.12"
  }
 },
 "nbformat": 4,
 "nbformat_minor": 5
}
