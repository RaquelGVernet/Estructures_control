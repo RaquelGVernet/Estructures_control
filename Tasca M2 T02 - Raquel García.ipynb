{
 "cells": [
  {
   "cell_type": "markdown",
   "id": "c2972ba2",
   "metadata": {},
   "source": [
    "## Tasca M2 T02 - Raquel García\n",
    "\n",
    "En esta Jupyter Notebook se adjunta la resolución de la Tasca M2 (T02). En cada celda se responde una pregunta concreta, para facilitar el seguimiento de las distintas respuestas."
   ]
  },
  {
   "cell_type": "markdown",
   "id": "15d86960",
   "metadata": {},
   "source": [
    "### EJERCICIO 1"
   ]
  },
  {
   "cell_type": "code",
   "execution_count": 1,
   "id": "2d076695",
   "metadata": {},
   "outputs": [
    {
     "name": "stdout",
     "output_type": "stream",
     "text": [
      "Suspès\n",
      "Notable\n",
      "Aprovat\n",
      "Excel·lent\n"
     ]
    }
   ],
   "source": [
    "#Exercici 1\n",
    "#L'exercici consisteix a crear un programa que et classifiqui una variable numèrica en funció de l’escala \n",
    "#Suspès/Aprovat/Notable/Excel·lent.\n",
    "\n",
    "#Recorda que Suspès < 5, Aprovat > 5 i < 7, Notable > 7 i < 9 i Excel·lent > 9.\n",
    "\n",
    "def clasificacionexamen(x):\n",
    "    if x < 5:\n",
    "        return \"Suspès\"\n",
    "    if x >= 5 and x < 7:\n",
    "        return \"Aprovat\"\n",
    "    if x >= 7 and x <9:\n",
    "        return \"Notable\"\n",
    "    else:\n",
    "        return \"Excel·lent\"\n",
    "    \n",
    "print(clasificacionexamen(2)) #Aquí algunos ejemplos para comprobar que funciona correctamente\n",
    "print(clasificacionexamen(7))\n",
    "print(clasificacionexamen(5))\n",
    "print(clasificacionexamen(9.5))"
   ]
  },
  {
   "cell_type": "markdown",
   "id": "376bd58f",
   "metadata": {},
   "source": [
    "### EJERCICIO 2"
   ]
  },
  {
   "cell_type": "code",
   "execution_count": 2,
   "id": "f6ad9016",
   "metadata": {},
   "outputs": [
    {
     "name": "stdout",
     "output_type": "stream",
     "text": [
      "Escribe un número: 4\n",
      "Ahora otro: 3\n",
      "4 es mayor que 3\n"
     ]
    }
   ],
   "source": [
    "#Exercici 2\n",
    "#Utilitzant el següent tutorial crea un programa que et pregunti dos números. \n",
    "#T’ha de mostrar un missatge dient si el primer és més gran, el segon és més gran o són iguals.\n",
    "\n",
    "def dosnum():\n",
    "    x = input('Escribe un número: ')\n",
    "    y = input(\"Ahora otro: \")\n",
    "    if x < y:\n",
    "        print (\"{} es menor que {}\".format(x,y)) #Formato necesario para que imprima los números indicados en x e y\n",
    "    if x > y:\n",
    "        print (\"{} es mayor que {}\".format(x,y))\n",
    "    else:\n",
    "        print (\"¡Son iguales!\")\n",
    "\n",
    "dosnum()"
   ]
  },
  {
   "cell_type": "markdown",
   "id": "481b0791",
   "metadata": {},
   "source": [
    "### EJERCICIO 3"
   ]
  },
  {
   "cell_type": "code",
   "execution_count": 3,
   "id": "073893a3",
   "metadata": {},
   "outputs": [
    {
     "name": "stdout",
     "output_type": "stream",
     "text": [
      "Escribe tu nombre: Raquel\n",
      "Escribe un número3\n",
      "RaquelRaquelRaquel\n"
     ]
    }
   ],
   "source": [
    "#Exercici 3\n",
    "#Crea un programa que et pregunti el teu nom, i et demani un número. Si el número és 0, hauria de mostrar un missatge d’error. \n",
    "#En cas contrari, hauria de mostrar el nom repetit tants cops com indiqui el número. Per exemple, “Joan Joan Joan”.\n",
    "\n",
    "\n",
    "def nomnum():\n",
    "    x = input('Escribe tu nombre: ')\n",
    "    y = input('Escribe un número')\n",
    "    y = int(y)\n",
    "    if y == 0:\n",
    "        raise ValueError(\"a should be nonzero\")\n",
    "    else:\n",
    "        print ((x)*y)\n",
    "\n",
    "nomnum()"
   ]
  },
  {
   "cell_type": "markdown",
   "id": "61584052",
   "metadata": {},
   "source": [
    "### EJERCICIO 4"
   ]
  },
  {
   "cell_type": "code",
   "execution_count": 4,
   "id": "5916101d",
   "metadata": {},
   "outputs": [
    {
     "name": "stdout",
     "output_type": "stream",
     "text": [
      "No es simétrica\n"
     ]
    }
   ],
   "source": [
    "#Exercici 4\n",
    "#Crea un programa que donada una llista qualsevol, et digui si és simètrica o no. Si ho és, que et digui quants elements té.\n",
    "\n",
    "def simetriaf(x):\n",
    "    mitad=(len(x))/2\n",
    "    rlistap=x[::-1]\n",
    "    for i in range(len(x)):\n",
    "        if x[i] != rlistap[i]:\n",
    "            print(\"No es simétrica\")\n",
    "            break\n",
    "        if x[i] == rlistap[i]:\n",
    "            if i >= mitad:\n",
    "                print(\"Es simétrico\")\n",
    "                break\n",
    "            else:\n",
    "                continue  \n",
    "\n",
    "                \n",
    "y=[1,2,2,1,1]\n",
    "simetriaf(y)\n"
   ]
  },
  {
   "cell_type": "markdown",
   "id": "5dd73bf1",
   "metadata": {},
   "source": [
    "### EJERCICIO 5"
   ]
  },
  {
   "cell_type": "code",
   "execution_count": 6,
   "id": "dd2ae1df",
   "metadata": {},
   "outputs": [
    {
     "name": "stdout",
     "output_type": "stream",
     "text": [
      "[2, 6]\n"
     ]
    }
   ],
   "source": [
    "#Exercici 5\n",
    "#Crea un programa que donada una llista, et digui quants números coincideixen amb la seva posició. \n",
    "#Per exemple [3,4,2,0,2,3,6] el 2 i el 6 coincideixen.\n",
    "\n",
    "\n",
    "listita=[3,4,2,0,2,3,6]\n",
    "coinciden=[]\n",
    "\n",
    "for i in range(len(listita)):\n",
    "    if i == listita[i]:\n",
    "        coinciden.append(listita[i])\n",
    "\n",
    "print (coinciden)\n"
   ]
  }
 ],
 "metadata": {
  "kernelspec": {
   "display_name": "Python 3 (ipykernel)",
   "language": "python",
   "name": "python3"
  },
  "language_info": {
   "codemirror_mode": {
    "name": "ipython",
    "version": 3
   },
   "file_extension": ".py",
   "mimetype": "text/x-python",
   "name": "python",
   "nbconvert_exporter": "python",
   "pygments_lexer": "ipython3",
   "version": "3.9.12"
  }
 },
 "nbformat": 4,
 "nbformat_minor": 5
}
